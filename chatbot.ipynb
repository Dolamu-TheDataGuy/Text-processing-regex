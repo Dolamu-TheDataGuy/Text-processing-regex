{
 "cells": [
  {
   "cell_type": "code",
   "execution_count": 14,
   "metadata": {},
   "outputs": [],
   "source": [
    "import re"
   ]
  },
  {
   "cell_type": "code",
   "execution_count": 18,
   "metadata": {},
   "outputs": [
    {
     "name": "stdout",
     "output_type": "stream",
     "text": [
      "order #56474849303\n",
      "order #56475647483\n"
     ]
    }
   ],
   "source": [
    "\n",
    "content = \"\"\"\n",
    "order #56474849303\n",
    "order #56475647483\n",
    "order#574748494904\n",
    "\"\"\"\n",
    "\n",
    "pattern = re.compile(r\"(order)\\s\\#\\d+\")\n",
    "\n",
    "matches = pattern.finditer(content)\n",
    "\n",
    "\n",
    "for match in matches:\n",
    "    print(match.group())"
   ]
  },
  {
   "cell_type": "code",
   "execution_count": 19,
   "metadata": {},
   "outputs": [],
   "source": [
    "text = \"\"\" \n",
    "Born\tElon Reeve Musk\n",
    "June 28, 1971 (age 52)\n",
    "Pretoria, Transvaal, South Africa\n",
    "Education\tUniversity of Pennsylvania (BA, BS)\n",
    "Title\t\n",
    "Founder, CEO, and chief engineer of SpaceX\n",
    "CEO and product architect of Tesla, Inc.\n",
    "Owner and CTO of Twitter\n",
    "President of the Musk Foundation\n",
    "Founder of the Boring Company, X Corp., and xAI\n",
    "Co-founder of Neuralink, OpenAI, Zip2, and X.com (part of PayPal)\n",
    "\"\"\""
   ]
  },
  {
   "cell_type": "code",
   "execution_count": 25,
   "metadata": {},
   "outputs": [],
   "source": [
    "##extract name\n",
    "name_pattern = r\"Born(.*)\"\n",
    "\n",
    "##extract birthdate\n",
    "birth_pattern = r\"Born.*\\n(.*)\\(age\"\n",
    "\n",
    "# extract age\n",
    "age_pattern = r\"age (\\d+)\"\n",
    "\n",
    "# extract_location\n",
    "location_pattern = r\"age.*\\n(.*)\""
   ]
  },
  {
   "cell_type": "code",
   "execution_count": 26,
   "metadata": {},
   "outputs": [
    {
     "data": {
      "text/plain": [
       "'Elon Reeve Musk'"
      ]
     },
     "execution_count": 26,
     "metadata": {},
     "output_type": "execute_result"
    }
   ],
   "source": [
    "name = re.findall(name_pattern, text)\n",
    "name[0].strip()"
   ]
  },
  {
   "cell_type": "code",
   "execution_count": 28,
   "metadata": {},
   "outputs": [
    {
     "data": {
      "text/plain": [
       "'June 28, 1971 '"
      ]
     },
     "execution_count": 28,
     "metadata": {},
     "output_type": "execute_result"
    }
   ],
   "source": [
    "birth_date = re.findall(birth_pattern, text)\n",
    "birth_date[0]"
   ]
  },
  {
   "cell_type": "code",
   "execution_count": 30,
   "metadata": {},
   "outputs": [
    {
     "data": {
      "text/plain": [
       "'52'"
      ]
     },
     "execution_count": 30,
     "metadata": {},
     "output_type": "execute_result"
    }
   ],
   "source": [
    "age = re.findall(age_pattern, text)\n",
    "age[0]"
   ]
  },
  {
   "cell_type": "code",
   "execution_count": 32,
   "metadata": {},
   "outputs": [
    {
     "data": {
      "text/plain": [
       "'Pretoria, Transvaal, South Africa'"
      ]
     },
     "execution_count": 32,
     "metadata": {},
     "output_type": "execute_result"
    }
   ],
   "source": [
    "birth_place = re.findall(location_pattern, text)\n",
    "birth_place[0]"
   ]
  },
  {
   "cell_type": "code",
   "execution_count": 35,
   "metadata": {},
   "outputs": [],
   "source": [
    "# Writing into a function\n",
    "\n",
    "def get_information(pattern: str, text: str) -> str:\n",
    "    matches = re.findall(pattern, text)\n",
    "    if matches:\n",
    "        return matches[0].strip()\n",
    "    \n",
    "def get_personal_information(text: str) -> dict:\n",
    "    age = get_information(\"age (\\d+)\", text)\n",
    "    full_name = get_information(\"Born(.*)\", text)\n",
    "    birth_date = get_information(\"Born.*\\n(.*)\\(age\", text)\n",
    "    birth_place = get_information(\"age.*\\n(.*)\", text)\n",
    "\n",
    "    return {\n",
    "        \"name\": full_name,\n",
    "        \"age\": age,\n",
    "        \"birthdate\": birth_date,\n",
    "        \"birth place\": birth_place\n",
    "    }\n",
    "\n",
    "    "
   ]
  },
  {
   "cell_type": "code",
   "execution_count": 36,
   "metadata": {},
   "outputs": [
    {
     "data": {
      "text/plain": [
       "{'name': 'Elon Reeve Musk',\n",
       " 'age': '52',\n",
       " 'birthdate': 'June 28, 1971',\n",
       " 'birth place': 'Pretoria, Transvaal, South Africa'}"
      ]
     },
     "execution_count": 36,
     "metadata": {},
     "output_type": "execute_result"
    }
   ],
   "source": [
    "get_personal_information(text=text)"
   ]
  },
  {
   "cell_type": "code",
   "execution_count": null,
   "metadata": {},
   "outputs": [],
   "source": []
  }
 ],
 "metadata": {
  "kernelspec": {
   "display_name": "Python 3",
   "language": "python",
   "name": "python3"
  },
  "language_info": {
   "codemirror_mode": {
    "name": "ipython",
    "version": 3
   },
   "file_extension": ".py",
   "mimetype": "text/x-python",
   "name": "python",
   "nbconvert_exporter": "python",
   "pygments_lexer": "ipython3",
   "version": "3.10.6"
  },
  "orig_nbformat": 4
 },
 "nbformat": 4,
 "nbformat_minor": 2
}
